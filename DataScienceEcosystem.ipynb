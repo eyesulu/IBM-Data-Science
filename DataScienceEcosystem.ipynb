{
  "nbformat": 4,
  "nbformat_minor": 0,
  "metadata": {
    "colab": {
      "provenance": []
    },
    "kernelspec": {
      "name": "python3",
      "display_name": "Python 3"
    },
    "language_info": {
      "name": "python"
    }
  },
  "cells": [
    {
      "cell_type": "markdown",
      "source": [
        "# Data Science Tools and Ecosystem"
      ],
      "metadata": {
        "id": "6JW5hRWeVFmy"
      }
    },
    {
      "cell_type": "markdown",
      "source": [
        "In this notebook, Data Science Tools and Ecosystem are summarized."
      ],
      "metadata": {
        "id": "c2FV07xTVYdW"
      }
    },
    {
      "cell_type": "markdown",
      "source": [
        "Some of the popular languages that Data Scientists use are:\n",
        "1. Python\n",
        "2. SQL\n",
        "3. R"
      ],
      "metadata": {
        "id": "X45uj-JDVrBc"
      }
    },
    {
      "cell_type": "markdown",
      "source": [
        "Some of the commonly used libraries used by Data Scientists include:\n",
        "1. Numpy\n",
        "2. Matplotlib\n",
        "3. Pandas"
      ],
      "metadata": {
        "id": "6jUjArXiWOaX"
      }
    },
    {
      "cell_type": "markdown",
      "source": [
        "| Data Science Tools |\n",
        "------\n",
        "| Apache Spark |\n",
        "| Apache Hadoop |\n",
        "| SAS |"
      ],
      "metadata": {
        "id": "u3UNYhXRWbbP"
      }
    },
    {
      "cell_type": "markdown",
      "source": [
        "### Below are a few examples of evaluating arithmetic expressions in Python"
      ],
      "metadata": {
        "id": "Ryq3sTVDW4ZM"
      }
    },
    {
      "cell_type": "code",
      "source": [
        "# This a simple arithmetic expression to mutiply then add integers\n",
        "(3*4)+5"
      ],
      "metadata": {
        "colab": {
          "base_uri": "https://localhost:8080/"
        },
        "id": "5eYWZGZwWHrF",
        "outputId": "1e4a52d6-e1f6-4407-be3a-23fcb85eb2ab"
      },
      "execution_count": 4,
      "outputs": [
        {
          "output_type": "execute_result",
          "data": {
            "text/plain": [
              "17"
            ]
          },
          "metadata": {},
          "execution_count": 4
        }
      ]
    },
    {
      "cell_type": "code",
      "source": [
        "# This will convert 200 minutes to hours by diving by 60\n",
        "mins = 200\n",
        "hrs = mins/60\n",
        "print(hrs)"
      ],
      "metadata": {
        "colab": {
          "base_uri": "https://localhost:8080/"
        },
        "id": "jyNIGdkYXK-k",
        "outputId": "b04cf28f-9428-4e8f-ae74-f71398065404"
      },
      "execution_count": 5,
      "outputs": [
        {
          "output_type": "stream",
          "name": "stdout",
          "text": [
            "3.3333333333333335\n"
          ]
        }
      ]
    },
    {
      "cell_type": "markdown",
      "source": [
        "**Objectives:**\n",
        "- List popular languages for Data Science\n",
        "- List commonly used libraries used by Data Scientists\n",
        "- List popular Data Science tools"
      ],
      "metadata": {
        "id": "rKfEqQGeYahQ"
      }
    },
    {
      "cell_type": "markdown",
      "source": [
        "## Author\n",
        "Aisulu Burkitbayeva"
      ],
      "metadata": {
        "id": "iKbUXJYDY8Hp"
      }
    }
  ]
}